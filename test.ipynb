{
 "cells": [
  {
   "cell_type": "code",
   "execution_count": 2,
   "metadata": {},
   "outputs": [],
   "source": [
    "import requests\n",
    "import random\n",
    "import sqlite3\n",
    "from bs4 import BeautifulSoup\n",
    "from pydantic import BaseModel\n",
    "from typing import List, Optional\n",
    "from uuid import UUID, uuid4\n",
    "from fastapi import FastAPI"
   ]
  },
  {
   "cell_type": "code",
   "execution_count": 9,
   "metadata": {},
   "outputs": [],
   "source": [
    "class Player(BaseModel):\n",
    "    id: Optional[UUID] = None\n",
    "    first_name: str\n",
    "    last_name: str\n",
    "    ab: int\n",
    "    runs: int\n",
    "    hits: int\n",
    "    doubles: int\n",
    "    triples: int\n",
    "    hr: int\n",
    "    rbi: int\n",
    "    sb: int\n",
    "    bb: int\n",
    "    ba: float\n",
    "    obp: float\n",
    "    slg: float"
   ]
  },
  {
   "cell_type": "code",
   "execution_count": 4,
   "metadata": {},
   "outputs": [],
   "source": [
    "def get_player_names(url):\n",
    "    # Send a GET request to the URL\n",
    "    with open('players.html', 'r', encoding='utf-8') as f:\n",
    "        html_content = f.read()\n",
    "\n",
    "    \n",
    "    #response = requests.get(url)\n",
    "    \n",
    " \n",
    "        # Parse the HTML content\n",
    "    soup = BeautifulSoup(html_content, 'html.parser')\n",
    "    #print(soup)\n",
    "    # Find the elements containing player names\n",
    "    player_name_elements = soup.find_all('a', class_='p-related-links__link')\n",
    "    player_names = [name.text.strip() for name in player_name_elements]\n",
    "    return player_names"
   ]
  },
  {
   "cell_type": "code",
   "execution_count": 5,
   "metadata": {},
   "outputs": [],
   "source": [
    "    url = \"https://www.mlb.com/players\"\n",
    "    # If parsing player names from a web site, set the URL above\n",
    "    # Currently the get_player_names function reads a local HTML file\n",
    "    player_names = get_player_names(url)"
   ]
  },
  {
   "cell_type": "code",
   "execution_count": 15,
   "metadata": {},
   "outputs": [],
   "source": [
    "\n",
    "def create_player(player_names):\n",
    "    first_names, last_names = zip(*(name.split() for name in player_names))\n",
    "    first_names = list(first_names)  # Convert to mutable list\n",
    "    last_names = list(last_names)  # Convert to mutable list\n",
    "    random.shuffle(first_names)\n",
    "    random.shuffle(last_names)\n",
    "    first_name = random.choice(first_names)\n",
    "    last_name = random.choice(last_names)\n",
    "    ab = random.randint(468, 650)\n",
    "    hits = random.randint(100, 250)\n",
    "    doubles =  random.randint(0, round(hits/2))\n",
    "    triples = random.randint(0, doubles-1)\n",
    "    hr = random.randint(0, (hits-doubles-triples))\n",
    "    runs = random.randint(hr, 150)\n",
    "    rbi =  random.randint(hr, hits*4)\n",
    "    sb =  random.randint(0, 10)\n",
    "    bb= random.randint(0, 132)\n",
    "    ba =  hits/ab\n",
    "    obp = (hits+bb)/ab\n",
    "    slg = ((hr*4)+(triples*3)+(doubles*2)+(hits-doubles-triples-hr))/ab\n",
    "\n",
    "    player = Player(first_name=first_name, last_name=last_name, ab=ab, runs=runs, hits=hits, doubles=doubles, triples=triples, hr=hr,\n",
    "                    rbi=rbi, sb=sb, bb=bb, ba=ba, obp=obp, slg=slg )\n",
    "    \n",
    "    \n",
    "    return player\n"
   ]
  },
  {
   "cell_type": "code",
   "execution_count": 16,
   "metadata": {},
   "outputs": [
    {
     "data": {
      "text/plain": [
       "Player(id=None, first_name='Whit', last_name='Jiménez', ab=604, runs=83, hits=216, doubles=83, triples=37, hr=53, rbi=110, sb=6, bb=79, ba=0.3576158940397351, obp=0.48841059602649006, slg=0.8807947019867549)"
      ]
     },
     "execution_count": 16,
     "metadata": {},
     "output_type": "execute_result"
    }
   ],
   "source": [
    "create_player(player_names)"
   ]
  },
  {
   "cell_type": "code",
   "execution_count": null,
   "metadata": {},
   "outputs": [],
   "source": []
  }
 ],
 "metadata": {
  "kernelspec": {
   "display_name": "youtube",
   "language": "python",
   "name": "python3"
  },
  "language_info": {
   "codemirror_mode": {
    "name": "ipython",
    "version": 3
   },
   "file_extension": ".py",
   "mimetype": "text/x-python",
   "name": "python",
   "nbconvert_exporter": "python",
   "pygments_lexer": "ipython3",
   "version": "3.12.3"
  }
 },
 "nbformat": 4,
 "nbformat_minor": 2
}
